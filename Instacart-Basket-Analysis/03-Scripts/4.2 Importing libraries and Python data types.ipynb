{
 "cells": [
  {
   "cell_type": "markdown",
   "id": "80215177-2f09-4153-8936-48f9fe2735ee",
   "metadata": {},
   "source": [
    "# Contents List\n",
    "\n",
    "## 01. Importing Libraries\n",
    "## 02. Data Types"
   ]
  },
  {
   "cell_type": "markdown",
   "id": "c11a0dca-1ba5-4866-984f-fac5c9a914f7",
   "metadata": {},
   "source": [
    "# 01. Importing Libraries"
   ]
  },
  {
   "cell_type": "code",
   "execution_count": 17,
   "id": "049f4c5b-2d25-4d3e-9fb8-9a88f2d5cbde",
   "metadata": {},
   "outputs": [],
   "source": [
    "#import libraries\n",
    "import pandas as pd\n",
    "import numpy as np\n",
    "import os"
   ]
  },
  {
   "cell_type": "markdown",
   "id": "c3efa2c6-4174-4a5c-88f4-f90f4d5a5c6f",
   "metadata": {},
   "source": [
    "# 02 Data Types"
   ]
  },
  {
   "cell_type": "code",
   "execution_count": 77,
   "id": "65ba7f02-97a0-49ca-a5af-163522d5fcb1",
   "metadata": {},
   "outputs": [],
   "source": [
    "#Answer 7\n",
    "\n",
    "#The First possible way\n",
    "x = 150\n",
    "y = 50\n",
    "z = x - y"
   ]
  },
  {
   "cell_type": "code",
   "execution_count": 79,
   "id": "632f9ea4-98ee-4947-8500-b1f6c5f53ab3",
   "metadata": {},
   "outputs": [
    {
     "name": "stdout",
     "output_type": "stream",
     "text": [
      "100\n"
     ]
    }
   ],
   "source": [
    "print(z)"
   ]
  },
  {
   "cell_type": "code",
   "execution_count": 81,
   "id": "9dd98f14-ff76-4968-89fe-03e0651fcfc8",
   "metadata": {},
   "outputs": [],
   "source": [
    "#The Second possible way\n",
    "x = 50\n",
    "y = 50\n",
    "z = x + y"
   ]
  },
  {
   "cell_type": "code",
   "execution_count": 83,
   "id": "a3c11d69-870d-40fd-bc91-35bc84defb9b",
   "metadata": {},
   "outputs": [
    {
     "data": {
      "text/plain": [
       "100"
      ]
     },
     "execution_count": 83,
     "metadata": {},
     "output_type": "execute_result"
    }
   ],
   "source": [
    "z"
   ]
  },
  {
   "cell_type": "code",
   "execution_count": 85,
   "id": "a5fce66a-741c-47b0-9698-3b2fe96aa810",
   "metadata": {},
   "outputs": [],
   "source": [
    "#The Third possible way\n",
    "x = x + 50"
   ]
  },
  {
   "cell_type": "code",
   "execution_count": 89,
   "id": "1625b93a-72d4-477e-920a-74d9d752cff0",
   "metadata": {},
   "outputs": [
    {
     "name": "stdout",
     "output_type": "stream",
     "text": [
      "100\n"
     ]
    }
   ],
   "source": [
    "print(x)"
   ]
  },
  {
   "cell_type": "code",
   "execution_count": 91,
   "id": "272df0e5-33d0-4a94-8472-7554244882f9",
   "metadata": {},
   "outputs": [
    {
     "data": {
      "text/plain": [
       "4.583333333333334"
      ]
     },
     "execution_count": 91,
     "metadata": {},
     "output_type": "execute_result"
    }
   ],
   "source": [
    "#Answer 8\n",
    "\n",
    "x = 5.5\n",
    "y = 1.2\n",
    "x/y"
   ]
  },
  {
   "cell_type": "code",
   "execution_count": 107,
   "id": "a6c62288-ef29-4d18-ba80-20c073da90a1",
   "metadata": {},
   "outputs": [
    {
     "data": {
      "text/plain": [
       "'Eveyone'"
      ]
     },
     "execution_count": 107,
     "metadata": {},
     "output_type": "execute_result"
    }
   ],
   "source": [
    "#Answer 9\n",
    "a = 'Evey'\n",
    "b = 'one'\n",
    "a + b"
   ]
  },
  {
   "cell_type": "code",
   "execution_count": 113,
   "id": "f3c9eb6a-2880-4db1-a53a-0d4680a6b83a",
   "metadata": {},
   "outputs": [
    {
     "name": "stdout",
     "output_type": "stream",
     "text": [
      "I am working on my Python skills. Python is efficient for data analysts.\n"
     ]
    }
   ],
   "source": [
    "#Answer 10\n",
    "a = 'I am working on my Python skills. '\n",
    "b = 'Python is efficient for data analysts.'\n",
    "print(a + b)"
   ]
  },
  {
   "cell_type": "code",
   "execution_count": 117,
   "id": "cb3b5c3d-1414-4c9b-b130-0c1f2dedd562",
   "metadata": {},
   "outputs": [
    {
     "data": {
      "text/plain": [
       "'repeat repeat repeat repeat repeat repeat repeat repeat repeat repeat repeat repeat repeat repeat repeat repeat repeat repeat repeat repeat repeat repeat repeat repeat repeat repeat repeat repeat repeat repeat repeat repeat repeat repeat repeat repeat repeat repeat repeat repeat repeat repeat repeat repeat repeat repeat repeat repeat repeat repeat repeat repeat repeat repeat repeat repeat repeat repeat repeat repeat repeat repeat repeat repeat repeat repeat repeat repeat repeat repeat repeat repeat repeat repeat repeat repeat repeat repeat repeat repeat repeat repeat repeat repeat repeat repeat repeat repeat repeat repeat repeat repeat repeat repeat repeat repeat repeat repeat repeat repeat '"
      ]
     },
     "execution_count": 117,
     "metadata": {},
     "output_type": "execute_result"
    }
   ],
   "source": [
    "#Bonus Task\n",
    "a = 'repeat '\n",
    "a * 100"
   ]
  },
  {
   "cell_type": "code",
   "execution_count": null,
   "id": "6a561bc9-1e8d-46e5-91a2-fc9b544c295a",
   "metadata": {},
   "outputs": [],
   "source": []
  },
  {
   "cell_type": "code",
   "execution_count": null,
   "id": "5a350444-8647-4920-a2a5-cd9c142a0486",
   "metadata": {},
   "outputs": [],
   "source": []
  }
 ],
 "metadata": {
  "kernelspec": {
   "display_name": "Python 3 (ipykernel)",
   "language": "python",
   "name": "python3"
  },
  "language_info": {
   "codemirror_mode": {
    "name": "ipython",
    "version": 3
   },
   "file_extension": ".py",
   "mimetype": "text/x-python",
   "name": "python",
   "nbconvert_exporter": "python",
   "pygments_lexer": "ipython3",
   "version": "3.12.2"
  }
 },
 "nbformat": 4,
 "nbformat_minor": 5
}
